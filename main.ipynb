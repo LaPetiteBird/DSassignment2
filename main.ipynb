{
 "cells": [
  {
   "cell_type": "markdown",
   "id": "19dd28e1",
   "metadata": {},
   "source": [
    "# Assignment 2: XAI\n",
    "Task: Predict the diagnosis for given x-ray images\n",
    "- Task Information: https://www.kaggle.com/datasets/paultimothymooney/chest-xray-pneumonia/\n",
    "- Data Information: https://www.kaggle.com/datasets/paultimothymooney/chest-xray-pneumonia/data\n",
    "<br>\n",
    "\n",
    "Report\n",
    "- Task definition\n",
    "- Data description (results of data exploration)\n",
    "- Description of baseline method\n",
    "- Desciption of hyperparameter optimization\n",
    "- Results: A table for...\n",
    "    - Baseline results (repication of exisiting method)\n",
    "    - Results of hyperparameter optimization/alternative approach\n",
    "    - Extensive analysis of best model using XAI techniques\n",
    "- Brief conclusion: Which feature respresentation/model worked the best and why"
   ]
  },
  {
   "cell_type": "markdown",
   "id": "62ae7d52",
   "metadata": {},
   "source": [
    "## Code"
   ]
  },
  {
   "cell_type": "code",
   "execution_count": null,
   "id": "32874582",
   "metadata": {},
   "outputs": [],
   "source": [
    "# Import packages\n",
    "import numpy as np \n",
    "import pandas as pd\n",
    "\n",
    "import matplotlib.pyplot as plt\n",
    "import seaborn as sns\n",
    "import tensorflow\n",
    "import keras\n",
    "from keras.models import Sequential\n",
    "from keras.layers import Dense, Conv2D , MaxPool2D , Flatten , Dropout , BatchNormalization\n",
    "from keras.preprocessing.image import ImageDataGenerator\n",
    "from sklearn.model_selection import train_test_split\n",
    "from sklearn.metrics import classification_report,confusion_matrix\n",
    "from keras.callbacks import ReduceLROnPlateau\n",
    "import cv2"
   ]
  },
  {
   "cell_type": "code",
   "execution_count": null,
   "id": "046a6c09",
   "metadata": {},
   "outputs": [
    {
     "ename": "SyntaxError",
     "evalue": "incomplete input (2380978654.py, line 5)",
     "output_type": "error",
     "traceback": [
      "\u001b[1;36m  Cell \u001b[1;32mIn[2], line 5\u001b[1;36m\u001b[0m\n\u001b[1;33m    def training_data(data_path):\u001b[0m\n\u001b[1;37m                                 ^\u001b[0m\n\u001b[1;31mSyntaxError\u001b[0m\u001b[1;31m:\u001b[0m incomplete input\n"
     ]
    }
   ],
   "source": [
    "# Sort data\n",
    "\n"
   ]
  },
  {
   "cell_type": "markdown",
   "id": "52f7706e",
   "metadata": {},
   "source": [
    "### 1.0 Dataset Exploration\n",
    "- Download dataset from Kaggle\n",
    "- Explore dataset to under input features (images), classes (normal vs. pneumonia), and distribution of data\n",
    "- Visualize sample images for both clases, along with their labels\n",
    "    - Can use https://www.kaggle.com/code/madz2000/pneumonia-detection-using-cnn-92-6-accuracy as reference (do not just copy)"
   ]
  },
  {
   "cell_type": "code",
   "execution_count": null,
   "id": "bb222914",
   "metadata": {},
   "outputs": [],
   "source": []
  },
  {
   "cell_type": "markdown",
   "id": "0befcc59",
   "metadata": {},
   "source": [
    "### 2.0 CNN Baseline\n",
    "- Use example CNN architecture provide in Kaggle code as a base. Understand role of key components like convolutional layers, pooling layers, and fully connected layers\n",
    "- Train model on training dataset\n",
    "- Track and report model performance metrics (accuracy, loss) during training and on the test dataset"
   ]
  },
  {
   "cell_type": "code",
   "execution_count": null,
   "id": "6d51aebe",
   "metadata": {},
   "outputs": [],
   "source": []
  },
  {
   "cell_type": "markdown",
   "id": "6824b211",
   "metadata": {},
   "source": [
    "### 3.0 Performance Evaluation\n",
    "- After training, evaluate model on test set\n",
    "- Present the confusion matrix, precision, recall, and F1 score for baseline model\n"
   ]
  },
  {
   "cell_type": "code",
   "execution_count": null,
   "id": "3085335f",
   "metadata": {},
   "outputs": [],
   "source": []
  },
  {
   "cell_type": "markdown",
   "id": "a18249d4",
   "metadata": {},
   "source": [
    "### 4.0 Hyperparameter Optimization & Alternative Models\n",
    "- Use an HPO method (SMAC3, Bayesian optimization, etc) to try to improve the current model; use a realistic budget (do no run experiments for more than a day)\n",
    "- Try a different model (machline learning technique) for the given task, provide motivation as to why\n",
    "- Present confusion matrix, precision, recall, and F1 score on train and test set for the final optimized CNN model and the alternative ML model"
   ]
  },
  {
   "cell_type": "code",
   "execution_count": null,
   "id": "437efa7e",
   "metadata": {},
   "outputs": [],
   "source": []
  },
  {
   "cell_type": "markdown",
   "id": "6042537f",
   "metadata": {},
   "source": [
    "### 4.0 Explainable AI\n",
    "- Inspect misclassification errors and use explainable AI techniques to highlight what the models are focusing on\n",
    "- Feature importance with Grad-CAM (example at https://keras.io/examples/vision/grad_cam/, https://github.com/ismailuddin/gradcam-tensorflow-2, or https://deel-ai.github.io/xplique/v1.4.0/)\n",
    "    - Use Grad-CAM (Gradient-weighted Class Activation Mapping) to visualize which parts of the input images contribute most to the model's predictions\n",
    "    - Choose 5-10 misclassified samples and use Grad-CAM to inspect which regions the model is focusing on\n",
    "    - Interpret the results:\n",
    "        - Are the activations reasonable?\n",
    "        - Can it be identified why the model made incorrect predictions for chosen samples?\n",
    "    - Layer-wise Relevance Propagation (LRP) (optional for bonus points)\n",
    "        - Apply LRP to further analyze how different layers of network contribute to the final predictions\n",
    "        - Compare insights from LRP with Grad-CAM, are there any differences in how each method highlights the important regions of the image?"
   ]
  },
  {
   "cell_type": "code",
   "execution_count": null,
   "id": "35997cb0",
   "metadata": {},
   "outputs": [],
   "source": []
  },
  {
   "cell_type": "markdown",
   "id": "4daf240d",
   "metadata": {},
   "source": [
    "## Report\n",
    "- Task definition\n",
    "- Data description (results of data exploration)\n",
    "- Description of baseline method\n",
    "- Desciption of hyperparameter optimization\n",
    "- Results: A table for...\n",
    "    - Baseline results (repication of exisiting method)\n",
    "    - Results of hyperparameter optimization/alternative approach\n",
    "    - Extensive analysis of best model using XAI techniques\n",
    "- Brief conclusion: Which feature respresentation/model worked the best and why\n",
    "<br>\n",
    "Maximum 8 pages"
   ]
  },
  {
   "cell_type": "markdown",
   "id": "cdeee13b",
   "metadata": {},
   "source": [
    "## Submission\n",
    "Submit report as pdf along with code zipfile in Brightspace"
   ]
  }
 ],
 "metadata": {
  "kernelspec": {
   "display_name": "DS",
   "language": "python",
   "name": "python3"
  },
  "language_info": {
   "codemirror_mode": {
    "name": "ipython",
    "version": 3
   },
   "file_extension": ".py",
   "mimetype": "text/x-python",
   "name": "python",
   "nbconvert_exporter": "python",
   "pygments_lexer": "ipython3",
   "version": "3.10.16"
  }
 },
 "nbformat": 4,
 "nbformat_minor": 5
}
